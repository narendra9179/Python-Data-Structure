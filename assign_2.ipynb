{
  "nbformat": 4,
  "nbformat_minor": 0,
  "metadata": {
    "colab": {
      "provenance": []
    },
    "kernelspec": {
      "name": "python3",
      "display_name": "Python 3"
    },
    "language_info": {
      "name": "python"
    }
  },
  "cells": [
    {
      "cell_type": "markdown",
      "source": [
        "# THEORY PART"
      ],
      "metadata": {
        "id": "pvs_XFfrad_2"
      }
    },
    {
      "cell_type": "markdown",
      "source": [
        "# Q:1 What are data structures, and why are they important?\n",
        "\n",
        "-> Data structures are ways of organizing and storing data in a computer so that it can be accessed and modified efficiently. They define the relationship between the data and the operations that can be performed on it.\n",
        "\n",
        "Importance:\n",
        "\n",
        "* Efficiency:\n",
        "\n",
        "  Good data structures allow for faster and more efficient processing of data.\n",
        "\n",
        "* Organized Storage:\n",
        "\n",
        " They help in organizing data logically, making programs easier to manage and understand.\n",
        "\n",
        "* Optimized Resource Use:\n",
        "\n",
        " They help reduce the use of memory and processing power.\n",
        "\n",
        "* Problem Solving:\n",
        "\n",
        " Many complex problems can only be solved effectively using appropriate data structures.\n",
        "\n",
        "\n",
        "\n",
        "\n"
      ],
      "metadata": {
        "id": "nhhl-qKNaibb"
      }
    },
    {
      "cell_type": "markdown",
      "source": [
        "# Q:2 Explain the difference between mutable and immutable data types with examples.\n",
        "\n",
        "Mutable Data Types:\n",
        "\n",
        " These are data types whose values can be changed after they are created. You can modify them using indexing, methods, or assignments.\n",
        "\n",
        "Example: list, set, dictionary\n",
        "\n",
        "Immutable Data Types:\n",
        "\n",
        " These are data types whose values cannot be changed after creation.\n",
        "\n",
        "Example: tuple, str, int, float"
      ],
      "metadata": {
        "id": "tQ_YUqyecpK3"
      }
    },
    {
      "cell_type": "markdown",
      "source": [
        "# Q:3 What are the main differences between lists and tuples in Python?\n",
        "\n",
        "->\n",
        "Differences between Lists and Tuples in Python:\n",
        "\n",
        "* Mutability:\n",
        "\n",
        "   Lists are mutable - you can change, add, or remove elements after creation.\n",
        "\n",
        "   Tuples are immutable - once created, their elements cannot be changed.\n",
        "\n",
        "* Syntax:\n",
        "\n",
        "   Lists use square brackets - []\n",
        "\n",
        "   Tuples use parentheses - ()\n",
        "\n",
        "* Performance:\n",
        "\n",
        "   Tuples are generally faster and use less memory than lists.\n",
        "\n",
        "* Use Cases:\n",
        "\n",
        "   Lists are used when the data is expected to change or grow.\n",
        "\n",
        "   Tuples are used when the data is fixed or constant.\n",
        "\n",
        "* Methods Available:\n",
        "\n",
        "  Lists have many built-in methods like append(), pop(), remove(), etc.\n",
        "\n",
        "  Tuples have very few methods, mostly for counting or finding elements.\n",
        "\n",
        "* Safety:\n",
        "\n",
        "  Since tuples are immutable, they are safer to use when you want to protect data from accidental changes.\n",
        "\n"
      ],
      "metadata": {
        "id": "fn5zgKnRfyKA"
      }
    },
    {
      "cell_type": "markdown",
      "source": [
        "# Q:4 Describe how dictionaries store data?\n",
        "\n",
        "->\n",
        "\n",
        "A dictionary in Python is an unordered collection of data that stores information in the form of key-value pairs.\n",
        "Each key is unique, and it maps to a value. You use the key to access or modify the corresponding value quickly. Dictionaries are created using curly braces {}, and key-value pairs are written as key: value."
      ],
      "metadata": {
        "id": "fQ46wNeCjZSt"
      }
    },
    {
      "cell_type": "markdown",
      "source": [
        "# Q:5 Why might you use a set instead of a list in Python?\n",
        "\n",
        "->\n",
        "\n",
        "Set is unordered collection of unique data set, following are the reasons for prefering set over list:\n",
        "\n",
        "* Set stores unique values only - duplicates are automatically removed.\n",
        "\n",
        "* Faster lookup - checking if an item exists is quicker in sets than in lists.\n",
        "\n",
        "* Supports set operations - like union, intersection, and difference.\n",
        "\n",
        "* Useful for data cleaning - helps in removing duplicate entries from a dataset."
      ],
      "metadata": {
        "id": "cUhXLKjphvP1"
      }
    },
    {
      "cell_type": "markdown",
      "source": [
        "# Q:6 What is a string in Python, and how is it different from a list?\n",
        "\n",
        "->\n",
        "\n",
        "A string in Python is an immutable sequence of characters used to store text.\n",
        "\n",
        "A list is a mutable sequence that can contain any data type.\n",
        "\n",
        "How string is different from list:\n",
        "\n",
        "* Strings store text as a sequence of characters.\n",
        "\n",
        "* Strings are immutable; lists are mutable.\n",
        "\n",
        "* Strings use quotes ('...' or \"...\"); lists use brackets [ ].\n",
        "\n",
        "* Lists can contain mixed data types; strings only characters.\n",
        "\n",
        "* Strings cannot be changed directly; lists can be modified freely.\n"
      ],
      "metadata": {
        "id": "ES-2axUEkNoZ"
      }
    },
    {
      "cell_type": "markdown",
      "source": [
        "# Q:7 How do tuples ensure data integrity in Python?\n",
        "\n",
        "->\n",
        "\n",
        "As tuples are immutable collections of data it maintains the original structure of information and prevents any intentional or accidental modification in orginal data."
      ],
      "metadata": {
        "id": "b0K3KJJslzkJ"
      }
    },
    {
      "cell_type": "markdown",
      "source": [
        "# Q:8 What is a hash table, and how does it relate to dictionaries in  python.\n",
        "\n",
        "->\n",
        "\n",
        "A hash table is a data structure that stores data in key-value pairs and uses a process called hashing to quickly find the location of the data.\n",
        "\n",
        "  Python's built-in dictionary is implemented using a hash table internally. When you add a key-value pair to a dictionary, Python calculates the hash of the key to decide where to store the value, which allows for very fast access. Because of this, dictionaries are highly efficient for lookups using keys."
      ],
      "metadata": {
        "id": "wAItGmyKqr5T"
      }
    },
    {
      "cell_type": "markdown",
      "source": [
        "# Q:9 Can lists contain different data types in Python.\n",
        "\n",
        "->\n",
        "Yes, lists in Python can contain different data types.\n",
        "\n",
        "In Python, a list can hold a mix of values like integers, floats, strings, booleans, other lists, or even complex objects—all in a single list.\n",
        "\n"
      ],
      "metadata": {
        "id": "oBpSCop3tPZL"
      }
    },
    {
      "cell_type": "code",
      "source": [
        "# Example :\n",
        "\n",
        "my_list = [10, \"hello\", 3.14, True, [1, 2, 3]]\n",
        "print(my_list)"
      ],
      "metadata": {
        "colab": {
          "base_uri": "https://localhost:8080/"
        },
        "id": "L0H4oUoVtuXj",
        "outputId": "bcf4a11a-499b-42f4-eff6-bc2f8e9bfe94"
      },
      "execution_count": null,
      "outputs": [
        {
          "output_type": "stream",
          "name": "stdout",
          "text": [
            "[10, 'hello', 3.14, True, [1, 2, 3]]\n"
          ]
        }
      ]
    },
    {
      "cell_type": "markdown",
      "source": [
        "# Q:10 Explain why strings are immutable in Python ?\n",
        "\n",
        "->\n",
        "In Python, strings are immutable, which means once a string is created, you cannot change its characters directly. If you try to modify a part of the string, Python will raise an error. This immutability is a design choice made for efficiency, safety, and performance.\n",
        "\n",
        "So, strings are immutable to make your code more reliable, secure, and memory-efficient.\n",
        "\n"
      ],
      "metadata": {
        "id": "OCJOLSwPt6nH"
      }
    },
    {
      "cell_type": "markdown",
      "source": [
        "# Q:11 What advantages do dictionaries offer over lists for certain tasks ?\n",
        "\n",
        "->\n",
        "\n",
        "Dictionaries offer several advantages over lists when you're working with key-based tasks.\n",
        "\n",
        "Advantages of Dictionaries over Lists:\n",
        "\n",
        "* Faster Lookups:\n",
        "\n",
        "   Dictionaries use hashing, so finding a value by key is much faster than searching through a list.\n",
        "\n",
        "* Key-Value Pair Storage:\n",
        "\n",
        "   Dictionaries let you store data with meaningful keys, which makes your code more readable and organized.\n",
        "\n",
        "* No Need for Indexing:\n",
        "\n",
        "   In lists, you access values by index, which can be hard to manage. Dictionaries let you directly access data using a key, which is easier to remember and maintain.\n",
        "\n",
        "* Avoiding Duplicates in Keys:\n",
        "\n",
        "   Dictionary keys are unique. If you try to assign a value to an existing key, it updates the value instead of adding a duplicate.\n",
        "\n",
        "* Great for Structured Data:\n",
        "\n",
        "   When dealing with objects like students, employees, or products (with attributes), dictionaries work much better than lists.\n",
        "\n",
        "So, dictionaries are preferred when you need fast access, structured data, or meaningful keys."
      ],
      "metadata": {
        "id": "9hyrXKNHulBs"
      }
    },
    {
      "cell_type": "markdown",
      "source": [
        "#Q:12 Describe a scenario where using a tuple would be preferable over a list?\n",
        "\n",
        "->\n",
        "A tuple is preferable over a list when you want to store values that should not be changed throughout the program.\n",
        "\n",
        "Example :\n",
        "\n",
        "* Storing Coordinates of a Point.\n"
      ],
      "metadata": {
        "id": "b5Sxv8Yg-G8s"
      }
    },
    {
      "cell_type": "markdown",
      "source": [
        "#Q:13 How do sets handle duplicate values in Python?\n",
        "\n",
        "->\n",
        "In Python, a set is an unordered collection of unique elements. This means a set automatically removes duplicate values.When you add duplicate values to a set, only one instance is stored, because sets are built on the principle of uniqueness."
      ],
      "metadata": {
        "id": "LL9OlG0k_Fzq"
      }
    },
    {
      "cell_type": "markdown",
      "source": [
        "#Q:14 How does the “in” keyword work differently for lists and dictionaries?\n",
        "\n",
        "->\n",
        "In Lists:\n",
        "\n",
        "  The in keyword checks if a value exists in the list. It looks through all items in the list to see if the value is present.\n",
        "\n",
        "In Dictionaries:\n",
        "\n",
        "  The in keyword checks if a key exists in the dictionary — not the value.\n",
        "\n",
        "  To check for a value in a dictionary, use:\n",
        "  .values() method.\n",
        "\n",
        "Example: \"a\" in {\"a\": 1} will check for \"a\" that is key, and the result would be \"True\".\n",
        "\n",
        "while to check \"1\" exist in the same dictionary or not we will use in keyword with .values() - int(1) in {\"a\": 1}.values()\n",
        "\n"
      ],
      "metadata": {
        "id": "okmDf7A2_r_A"
      }
    },
    {
      "cell_type": "markdown",
      "source": [
        "#Q:15 Can you modify the elements of a tuple? Explain why or why not ?\n",
        "\n",
        "->\n",
        "\n",
        "No, you cannot modify the elements of a tuple in Python. Tuples are immutable, which means once they are created, their elements cannot be changed, added, or removed.\n",
        "\n",
        "Note:\n",
        "  If a tuple contains a mutable object like a list, the object inside can be changed, but the tuple itself still cannot be reassigned.\n",
        "\n",
        "  \n",
        "\n"
      ],
      "metadata": {
        "id": "DOPaAKgTCEc7"
      }
    },
    {
      "cell_type": "markdown",
      "source": [
        "#Q:16 What is a nested dictionary, and give an example of its use case ?\n",
        "\n",
        "->\n",
        "\n",
        "Nested dictionary is a dictionary inside another dictionary. It allows you to organize grouped data.\n",
        "\n",
        "Example: Student Records.\n",
        "\n"
      ],
      "metadata": {
        "id": "xIvPjZY6FY-R"
      }
    },
    {
      "cell_type": "markdown",
      "source": [
        "#Q:17 Describe the time complexity of accessing elements in a dictionary?\n",
        "\n",
        "->\n",
        "\n",
        "The time complexity of accessing elements in a dictionary is on average:\n",
        "\n",
        "Average Case: O(1) i.e. constant time\n",
        "\n",
        "\n",
        "  This means that looking up a value by its key is done in constant time, regardless of the size of the dictionary. This efficiency is due to the hash table implementation behind the dictionary.\n",
        "\n",
        "Worst Case: O(n)\n",
        "\n",
        "  In rare scenarios—such as when many keys hash to the same value (hash collisions). However, Python's implementation includes collision resolution strategies to minimize this.\n",
        "\n"
      ],
      "metadata": {
        "id": "A2y3SgqWGNh2"
      }
    },
    {
      "cell_type": "markdown",
      "source": [
        "#Q:18 In what situations are lists preferred over dictionaries ?\n",
        "\n",
        "->\n",
        "\n",
        "When to Use Lists Over Dictionaries :\n",
        "\n",
        "1. When Order Matters\n",
        "\n",
        "   Lists preserve the order of items by default, and you often use them when order is important.\n",
        "\n",
        "2. When You Don't Need Named Keys :\n",
        "   \n",
        "   Lists are best when your data is just a sequence of values — no need to label them with custom keys. It's more memory-efficient than dictionaries in this case.\n",
        "\n",
        "3. For Iteration and Slicing :\n",
        "\n",
        "   If you frequently use loops and slicing, lists are simpler:\n",
        "\n",
        "4. When You Need Ordered Collections of Similar Items :\n",
        "\n",
        "  Lists are useful for storing multiple items of the same type.\n",
        "\n"
      ],
      "metadata": {
        "id": "cNv5gl2yd7tY"
      }
    },
    {
      "cell_type": "markdown",
      "source": [
        "# Q:19 Why are dictionaries considered unordered, and how does that affect data retrieval ?\n",
        "\n",
        "->\n",
        "\n",
        "Dictionaries considered unordered because it doesn't support indexing.\n",
        "\n",
        "How Does This Affect Data Retrieval?\n",
        "\n",
        "* Doesn't support access by order (indexing) instead use key to retrieve values."
      ],
      "metadata": {
        "id": "1cGVV128X7eY"
      }
    },
    {
      "cell_type": "markdown",
      "source": [
        "# Q:20 Explain the difference between a list and a dictionary in terms of data retrieval.\n",
        "\n",
        "->\n",
        "Lists are ordered collections accessed by index.Accessing an element requires its positional index.\n",
        "\n",
        "Access Method- By index (e.g., list[0])\n",
        "\n",
        "Duplicate Entries - Allows duplicate values\n",
        "\n",
        "while dictionaries are unordered collections accessed by Key.Accessing a value requires its corresponding key.\n",
        "\n",
        "Access Method - By key (e.g., dict['key'])\n",
        "\n",
        "Duplicate Entries - Keys must be unique; values can duplicate\n",
        "\n"
      ],
      "metadata": {
        "id": "n-VcYp8_bD4i"
      }
    },
    {
      "cell_type": "markdown",
      "source": [
        "# Practical Questions"
      ],
      "metadata": {
        "id": "rDczRSyIdgpu"
      }
    },
    {
      "cell_type": "markdown",
      "source": [
        "# Q:1 Write a code to create a string with your name and print it."
      ],
      "metadata": {
        "id": "3k9lQumFdrss"
      }
    },
    {
      "cell_type": "code",
      "source": [
        "# Ans-1\n",
        "\n",
        "name=\"narendra\"\n",
        "\n",
        "print(name)"
      ],
      "metadata": {
        "colab": {
          "base_uri": "https://localhost:8080/"
        },
        "id": "HNEVzrFjdvir",
        "outputId": "e8247bc7-ec63-4af1-8e2b-ded973b44256"
      },
      "execution_count": 1,
      "outputs": [
        {
          "output_type": "stream",
          "name": "stdout",
          "text": [
            "narendra\n"
          ]
        }
      ]
    },
    {
      "cell_type": "markdown",
      "source": [
        "# Q:2 Write a code to find the length of the string \"Hello World\"."
      ],
      "metadata": {
        "id": "ElKC6Q1Id9cW"
      }
    },
    {
      "cell_type": "code",
      "source": [
        "# Ans-2\n",
        "\n",
        "len(\"Hello World\")"
      ],
      "metadata": {
        "colab": {
          "base_uri": "https://localhost:8080/"
        },
        "id": "d0YTUY2teEHc",
        "outputId": "ec37bf1e-11f6-4571-e7de-a63e0e92384f"
      },
      "execution_count": 2,
      "outputs": [
        {
          "output_type": "execute_result",
          "data": {
            "text/plain": [
              "11"
            ]
          },
          "metadata": {},
          "execution_count": 2
        }
      ]
    },
    {
      "cell_type": "markdown",
      "source": [
        "# Q.3 Write a code to slice the first 3 characters from the string \"Python Programming\"."
      ],
      "metadata": {
        "id": "EhMlRJxYfVMn"
      }
    },
    {
      "cell_type": "code",
      "source": [
        "# Ans-3\n",
        "\n",
        "S=\"Python Programming\"\n",
        "\n",
        "first_3_char=S[:3]\n",
        "\n",
        "print(first_3_char)"
      ],
      "metadata": {
        "colab": {
          "base_uri": "https://localhost:8080/"
        },
        "id": "1zho4qt1fcjS",
        "outputId": "61a44579-84ea-4857-e88f-b62a3827646a"
      },
      "execution_count": 11,
      "outputs": [
        {
          "output_type": "stream",
          "name": "stdout",
          "text": [
            "Pyt\n"
          ]
        }
      ]
    },
    {
      "cell_type": "markdown",
      "source": [
        "# Q:4 Write a code to convert the string \"hello\" to uppercase."
      ],
      "metadata": {
        "id": "jewiREPUgFXd"
      }
    },
    {
      "cell_type": "code",
      "source": [
        "# Ans-4\n",
        "\n",
        "s1=\"hello\"\n",
        "\n",
        "s1_uppercase= s1.upper()\n",
        "\n",
        "print(s1_uppercase)\n"
      ],
      "metadata": {
        "colab": {
          "base_uri": "https://localhost:8080/"
        },
        "id": "fp5FqSslf7Ep",
        "outputId": "624c0e19-f15e-4dcd-d755-7fe096e5a156"
      },
      "execution_count": 12,
      "outputs": [
        {
          "output_type": "stream",
          "name": "stdout",
          "text": [
            "HELLO\n"
          ]
        }
      ]
    },
    {
      "cell_type": "markdown",
      "source": [
        "# Q:5 Write a code to replace the word \"apple\" with \"orange\" in the string \"I like apple\"."
      ],
      "metadata": {
        "id": "73t61TFsg-k5"
      }
    },
    {
      "cell_type": "code",
      "source": [
        "# Ans-5\n",
        "\n",
        "s2=\"I like apple\"\n",
        "\n",
        "apple_replaced= s2.replace(\"apple\",\"orange\")\n",
        "\n",
        "print(apple_replaced)\n"
      ],
      "metadata": {
        "colab": {
          "base_uri": "https://localhost:8080/"
        },
        "id": "U4ZLTHOPhYNH",
        "outputId": "4954dc5c-916f-46f9-a7f7-7d8d39abe131"
      },
      "execution_count": 15,
      "outputs": [
        {
          "output_type": "stream",
          "name": "stdout",
          "text": [
            "I like orange\n"
          ]
        }
      ]
    },
    {
      "cell_type": "markdown",
      "source": [
        "# Q:6 Write a code to create a list with numbers 1 to 5 and print it.\n"
      ],
      "metadata": {
        "id": "Jl42ZldPvmZf"
      }
    },
    {
      "cell_type": "code",
      "source": [
        "# Ans:6\n",
        "\n",
        "list=[1,2,3,4,5]\n",
        "\n",
        "print(list)"
      ],
      "metadata": {
        "colab": {
          "base_uri": "https://localhost:8080/"
        },
        "id": "P1or52e0vuBJ",
        "outputId": "84adc797-a635-4826-c89f-7e176586c11c"
      },
      "execution_count": 1,
      "outputs": [
        {
          "output_type": "stream",
          "name": "stdout",
          "text": [
            "[1, 2, 3, 4, 5]\n"
          ]
        }
      ]
    },
    {
      "cell_type": "markdown",
      "source": [
        "# Q:7 Write a code to append the number 10 to the list [1, 2, 3, 4]."
      ],
      "metadata": {
        "id": "EkzlBNA4w0Ew"
      }
    },
    {
      "cell_type": "code",
      "source": [
        "numbers = [1,2,3,4]\n",
        "\n",
        "numbers.append(10)\n",
        "\n",
        "print(numbers)"
      ],
      "metadata": {
        "colab": {
          "base_uri": "https://localhost:8080/"
        },
        "id": "QrqpKj9Ywkff",
        "outputId": "dd422a8f-a79b-4d6a-be1e-e95d7077db44"
      },
      "execution_count": 4,
      "outputs": [
        {
          "output_type": "stream",
          "name": "stdout",
          "text": [
            "[1, 2, 3, 4, 10]\n"
          ]
        }
      ]
    },
    {
      "cell_type": "markdown",
      "source": [
        "# Q:8 Write a code to remove the number 3 from the list [1, 2, 3, 4, 5]"
      ],
      "metadata": {
        "id": "m-Ped7NKxY4U"
      }
    },
    {
      "cell_type": "code",
      "source": [
        "list1=[1, 2, 3, 4, 5]\n",
        "\n",
        "list1.remove(3)\n",
        "\n",
        "print(list1)"
      ],
      "metadata": {
        "colab": {
          "base_uri": "https://localhost:8080/"
        },
        "id": "gDBtfONYxVVX",
        "outputId": "4b5030d2-0481-4106-8232-1afedc7da208"
      },
      "execution_count": 6,
      "outputs": [
        {
          "output_type": "stream",
          "name": "stdout",
          "text": [
            "[1, 2, 4, 5]\n"
          ]
        }
      ]
    },
    {
      "cell_type": "markdown",
      "source": [
        "# Q:9 Write a code to access the second element in the list ['a', 'b', 'c', 'd'].\n"
      ],
      "metadata": {
        "id": "PFnZ-GnSx8QB"
      }
    },
    {
      "cell_type": "code",
      "source": [
        "# Ans\n",
        "\n",
        "list2=['a', 'b', 'c', 'd']\n",
        "\n",
        "second_el= list2[1]\n",
        "\n",
        "print(second_el)"
      ],
      "metadata": {
        "colab": {
          "base_uri": "https://localhost:8080/"
        },
        "id": "NtZbIyZtyGTH",
        "outputId": "94399361-7c9f-4573-e120-788cbf08974a"
      },
      "execution_count": 7,
      "outputs": [
        {
          "output_type": "stream",
          "name": "stdout",
          "text": [
            "b\n"
          ]
        }
      ]
    },
    {
      "cell_type": "markdown",
      "source": [
        "# Q:10 Write a code to reverse the list [10, 20, 30, 40, 50]."
      ],
      "metadata": {
        "id": "yMd7bn0vyYuI"
      }
    },
    {
      "cell_type": "code",
      "source": [
        "list3=[10, 20, 30, 40, 50]\n",
        "\n",
        "reversed=list3[::-1]  # or use method - numbers.reverse()\n",
        "\n",
        "print(reversed)"
      ],
      "metadata": {
        "colab": {
          "base_uri": "https://localhost:8080/"
        },
        "id": "4cDFJlJQyfZG",
        "outputId": "1a54f3e4-d321-4053-f50b-bab09d89d151"
      },
      "execution_count": 9,
      "outputs": [
        {
          "output_type": "stream",
          "name": "stdout",
          "text": [
            "[50, 40, 30, 20, 10]\n"
          ]
        }
      ]
    },
    {
      "cell_type": "markdown",
      "source": [
        "# Q:11. Write a code to create a tuple with the elements 100, 200, 300 and print it."
      ],
      "metadata": {
        "id": "hWnmSzbKy3zG"
      }
    },
    {
      "cell_type": "code",
      "source": [
        "# Ans\n",
        "\n",
        "tuple= (100,200,300)\n",
        "\n",
        "print(tuple)"
      ],
      "metadata": {
        "colab": {
          "base_uri": "https://localhost:8080/"
        },
        "id": "E_13V3tIzJgu",
        "outputId": "e46c0b04-0dc1-4ca0-b29f-a2d2ffd613e0"
      },
      "execution_count": 10,
      "outputs": [
        {
          "output_type": "stream",
          "name": "stdout",
          "text": [
            "(100, 200, 300)\n"
          ]
        }
      ]
    },
    {
      "cell_type": "markdown",
      "source": [
        "# Q:12. Write a code to access the second-to-last element of the tuple ('red', 'green', 'blue', 'yellow')."
      ],
      "metadata": {
        "id": "kWSdqeHMzdeI"
      }
    },
    {
      "cell_type": "code",
      "source": [
        "# Ans\n",
        "\n",
        "tuple1 = ('red', 'green', 'blue', 'yellow')\n",
        "\n",
        "second_to_last_el= tuple1[-2]\n",
        "\n",
        "print(second_to_last_el)"
      ],
      "metadata": {
        "colab": {
          "base_uri": "https://localhost:8080/"
        },
        "id": "Q9GYbGC8zkfG",
        "outputId": "9766498b-efca-43e0-bfe9-27f672194032"
      },
      "execution_count": 12,
      "outputs": [
        {
          "output_type": "stream",
          "name": "stdout",
          "text": [
            "blue\n"
          ]
        }
      ]
    },
    {
      "cell_type": "markdown",
      "source": [
        "# Q:13. Write a code to find the minimum number in the tuple (10, 20, 5, 15)."
      ],
      "metadata": {
        "id": "GkPzfX5xz8NH"
      }
    },
    {
      "cell_type": "code",
      "source": [
        "# Ans\n",
        "\n",
        "tuple2= (10, 20, 5, 15)\n",
        "\n",
        "minimum_number=min(tuple2)\n",
        "\n",
        "print(minimum_number)"
      ],
      "metadata": {
        "colab": {
          "base_uri": "https://localhost:8080/"
        },
        "id": "aQ7KcUgp0C5w",
        "outputId": "71a93fbe-9eae-42f8-e0e2-8d8bb62ea2b2"
      },
      "execution_count": 15,
      "outputs": [
        {
          "output_type": "stream",
          "name": "stdout",
          "text": [
            "5\n"
          ]
        }
      ]
    },
    {
      "cell_type": "markdown",
      "source": [
        "# Q:14. Write a code to find the index of the element \"cat\" in the tuple ('dog', 'cat', 'rabbit')."
      ],
      "metadata": {
        "id": "sGNLWGBZ0onJ"
      }
    },
    {
      "cell_type": "code",
      "source": [
        "tuple3= ('dog', 'cat', 'rabbit')\n",
        "\n",
        "index_of_the_el_cat= tuple3.index(\"cat\")\n",
        "\n",
        "print(index_of_the_el_cat)\n"
      ],
      "metadata": {
        "colab": {
          "base_uri": "https://localhost:8080/"
        },
        "id": "MQrGHwpo0y8G",
        "outputId": "5aff0d51-d4b4-41c5-ae2d-8dad21b2da81"
      },
      "execution_count": 18,
      "outputs": [
        {
          "output_type": "stream",
          "name": "stdout",
          "text": [
            "1\n"
          ]
        }
      ]
    },
    {
      "cell_type": "markdown",
      "source": [
        "# Q:15. Write a code to create a tuple containing three different fruits and check if \"kiwi\" is in it."
      ],
      "metadata": {
        "id": "4vrlNnIc1hV5"
      }
    },
    {
      "cell_type": "code",
      "source": [
        "# Ans\n",
        "\n",
        "tuple4=(\"apple\",\"banana\",\"kiwi\")\n",
        "\n",
        "checking= \"kiwi\" in tuple4\n",
        "\n",
        "print(checking)"
      ],
      "metadata": {
        "colab": {
          "base_uri": "https://localhost:8080/"
        },
        "id": "3qZF7wPf1l1M",
        "outputId": "0d7623b8-1329-4647-950f-2c4757ff4295"
      },
      "execution_count": 19,
      "outputs": [
        {
          "output_type": "stream",
          "name": "stdout",
          "text": [
            "True\n"
          ]
        }
      ]
    },
    {
      "cell_type": "markdown",
      "source": [
        "# Q:16. Write a code to create a set with the elements 'a', 'b', 'c' and print it"
      ],
      "metadata": {
        "id": "2EFhyXRm2eNv"
      }
    },
    {
      "cell_type": "code",
      "source": [
        "sett={'a','b','c'}\n",
        "\n",
        "print(sett)"
      ],
      "metadata": {
        "colab": {
          "base_uri": "https://localhost:8080/"
        },
        "id": "GFTvsVSO2gsi",
        "outputId": "9385c0d1-7d5d-4bc4-fc01-7c0e0159a447"
      },
      "execution_count": 60,
      "outputs": [
        {
          "output_type": "stream",
          "name": "stdout",
          "text": [
            "{'c', 'b', 'a'}\n"
          ]
        }
      ]
    },
    {
      "cell_type": "markdown",
      "source": [
        "# Q:17. Write a code to clear all elements from the set {1, 2, 3, 4, 5}."
      ],
      "metadata": {
        "id": "gT50wA1l2tHS"
      }
    },
    {
      "cell_type": "code",
      "source": [
        "# Ans\n",
        "\n",
        "set1= {1, 2, 3, 4, 5}\n",
        "\n",
        "set1.clear()\n",
        "\n",
        "print(set1)"
      ],
      "metadata": {
        "colab": {
          "base_uri": "https://localhost:8080/"
        },
        "id": "98nodEg62xhg",
        "outputId": "688e9f4a-41ef-49c4-e29e-3a0b804a433a"
      },
      "execution_count": 23,
      "outputs": [
        {
          "output_type": "stream",
          "name": "stdout",
          "text": [
            "set()\n"
          ]
        }
      ]
    },
    {
      "cell_type": "markdown",
      "source": [
        "# Q:18. Write a code to remove the element 4 from the set {1, 2, 3, 4}."
      ],
      "metadata": {
        "id": "wV1-8eO13GAJ"
      }
    },
    {
      "cell_type": "code",
      "source": [
        "#Ans\n",
        "\n",
        "set2={1, 2, 3, 4}\n",
        "\n",
        "set2.remove(4)\n",
        "\n",
        "print(set2)"
      ],
      "metadata": {
        "colab": {
          "base_uri": "https://localhost:8080/"
        },
        "id": "AFhc9WBz3BVm",
        "outputId": "a5ebfdf0-8e39-438a-ec05-08bbfa21eb1e"
      },
      "execution_count": 25,
      "outputs": [
        {
          "output_type": "stream",
          "name": "stdout",
          "text": [
            "{1, 2, 3}\n"
          ]
        }
      ]
    },
    {
      "cell_type": "markdown",
      "source": [
        "# Q:19. Write a code to find the union of two sets {1, 2, 3} and {3, 4, 5}."
      ],
      "metadata": {
        "id": "UGNsVw_43lUg"
      }
    },
    {
      "cell_type": "code",
      "source": [
        "set3={1, 2, 3}\n",
        "\n",
        "set4={3, 4, 5}\n",
        "\n",
        "union=set3 | set4 # or set3.union(set4)\n",
        "\n",
        "print(union)"
      ],
      "metadata": {
        "colab": {
          "base_uri": "https://localhost:8080/"
        },
        "id": "diaQ6zWa3o6_",
        "outputId": "82970f82-871d-4991-cfc2-67d83373dbda"
      },
      "execution_count": 26,
      "outputs": [
        {
          "output_type": "stream",
          "name": "stdout",
          "text": [
            "{1, 2, 3, 4, 5}\n"
          ]
        }
      ]
    },
    {
      "cell_type": "markdown",
      "source": [
        "# Q:20. Write a code to find the intersection of two sets {1, 2, 3} and {2, 3, 4}."
      ],
      "metadata": {
        "id": "g3bmZ7dc4Qgm"
      }
    },
    {
      "cell_type": "code",
      "source": [
        "# Ans\n",
        "\n",
        "set5={1, 2, 3}\n",
        "set6={2, 3, 4}\n",
        "\n",
        "intersection= set5 & set6\n",
        "\n",
        "print(intersection)\n"
      ],
      "metadata": {
        "colab": {
          "base_uri": "https://localhost:8080/"
        },
        "id": "poGsS7r24UMc",
        "outputId": "0c54ed28-72b1-4918-afda-92715f985469"
      },
      "execution_count": 29,
      "outputs": [
        {
          "output_type": "stream",
          "name": "stdout",
          "text": [
            "{2, 3}\n"
          ]
        }
      ]
    },
    {
      "cell_type": "markdown",
      "source": [
        "# Q:21. Write a code to create a dictionary with the keys \"name\", \"age\", and \"city\", and print it."
      ],
      "metadata": {
        "id": "iB-qnlYd4rcg"
      }
    },
    {
      "cell_type": "code",
      "source": [
        "# Ans\n",
        "\n",
        "info={\"name\":\"narendra\",\"age\":27,\"city\":\"suthaliya\",}\n",
        "\n",
        "print(info)"
      ],
      "metadata": {
        "colab": {
          "base_uri": "https://localhost:8080/"
        },
        "id": "UTjKRu6o4sFW",
        "outputId": "8986d6d4-c766-49e3-c4c0-2d165da78078"
      },
      "execution_count": 30,
      "outputs": [
        {
          "output_type": "stream",
          "name": "stdout",
          "text": [
            "{'name': 'narendra', 'age': 27, 'city': 'suthaliya'}\n"
          ]
        }
      ]
    },
    {
      "cell_type": "markdown",
      "source": [
        "# Q:22. Write a code to add a new key-value pair \"country\": \"USA\" to the dictionary {'name': 'John', 'age': 25}"
      ],
      "metadata": {
        "id": "VhbR2mI88Ird"
      }
    },
    {
      "cell_type": "code",
      "source": [
        "# Ans\n",
        "\n",
        "countries= {'name': 'John', 'age': 25}\n",
        "\n",
        "countries[\"country\"]=\"USA\"\n",
        "\n",
        "print(countries)"
      ],
      "metadata": {
        "colab": {
          "base_uri": "https://localhost:8080/"
        },
        "id": "MF_6nil28JNB",
        "outputId": "97fb4f75-53aa-420a-e275-3bf5288cfada"
      },
      "execution_count": 32,
      "outputs": [
        {
          "output_type": "stream",
          "name": "stdout",
          "text": [
            "{'name': 'John', 'age': 25, 'country': 'USA'}\n"
          ]
        }
      ]
    },
    {
      "cell_type": "markdown",
      "source": [
        "# Q:23. Write a code to access the value associated with the key \"name\" in the dictionary {'name': 'Alice', 'age': 30}."
      ],
      "metadata": {
        "id": "ESZQsbc28753"
      }
    },
    {
      "cell_type": "code",
      "source": [
        "dictt={'name': 'Alice', 'age': 30}\n",
        "\n",
        "name=dictt[\"name\"]\n",
        "\n",
        "print(name)"
      ],
      "metadata": {
        "colab": {
          "base_uri": "https://localhost:8080/"
        },
        "id": "KPm0meYN88UA",
        "outputId": "4d55d839-fdc0-4722-cb0d-08c818195586"
      },
      "execution_count": 33,
      "outputs": [
        {
          "output_type": "stream",
          "name": "stdout",
          "text": [
            "Alice\n"
          ]
        }
      ]
    },
    {
      "cell_type": "markdown",
      "source": [
        "# Q: 24. Write a code to remove the key \"age\" from the dictionary {'name': 'Bob', 'age': 22, 'city': 'New York'}."
      ],
      "metadata": {
        "id": "3SxoLaa79QY9"
      }
    },
    {
      "cell_type": "code",
      "source": [
        "# Ans\n",
        "\n",
        "dictt2={'name': 'Bob', 'age': 22, 'city': 'New York'}\n",
        "\n",
        "dictt2.pop(\"age\")\n",
        "\n",
        "print(dictt2)"
      ],
      "metadata": {
        "colab": {
          "base_uri": "https://localhost:8080/"
        },
        "id": "LDuWYizZ9Y3l",
        "outputId": "c6ce7de4-db9c-4c13-b4a7-329f0b48d2b8"
      },
      "execution_count": 35,
      "outputs": [
        {
          "output_type": "stream",
          "name": "stdout",
          "text": [
            "{'name': 'Bob', 'city': 'New York'}\n"
          ]
        }
      ]
    },
    {
      "cell_type": "markdown",
      "source": [
        "# Q:25. Write a code to check if the key \"city\" exists in the dictionary {'name': 'Alice', 'city': 'Paris'}.\n"
      ],
      "metadata": {
        "id": "9GCcKNR_99dN"
      }
    },
    {
      "cell_type": "code",
      "source": [
        "# Ans\n",
        "\n",
        "dictt3={'name': 'Alice', 'city': 'Paris'}\n",
        "\n",
        "check_city= \"city\" in dictt3\n",
        "\n",
        "print(check_city)\n"
      ],
      "metadata": {
        "colab": {
          "base_uri": "https://localhost:8080/"
        },
        "id": "HzWlnlwp993-",
        "outputId": "5ee38fe5-ca26-42ab-e96b-650bf94dce22"
      },
      "execution_count": 37,
      "outputs": [
        {
          "output_type": "stream",
          "name": "stdout",
          "text": [
            "True\n"
          ]
        }
      ]
    },
    {
      "cell_type": "markdown",
      "source": [
        "# Q:26. Write a code to create a list, a tuple, and a dictionary, and print them all."
      ],
      "metadata": {
        "id": "IrxbzbRE-1jB"
      }
    },
    {
      "cell_type": "code",
      "source": [
        "# Ans\n",
        "\n",
        "my_list = [1, 2, 3, 4, 5]\n",
        "my_tuple = ('apple', 'banana', 'cherry')\n",
        "my_dict = {'name': 'John', 'age': 30, 'city': 'New York'}\n",
        "\n",
        "print(\"List:\", my_list)\n",
        "print(\"Tuple:\", my_tuple)\n",
        "print(\"Dictionary:\", my_dict)"
      ],
      "metadata": {
        "colab": {
          "base_uri": "https://localhost:8080/"
        },
        "id": "k1OkI7Rd-2C2",
        "outputId": "09a225bc-7420-46aa-b7a3-ac3ff4a0d285"
      },
      "execution_count": 38,
      "outputs": [
        {
          "output_type": "stream",
          "name": "stdout",
          "text": [
            "List: [1, 2, 3, 4, 5]\n",
            "Tuple: ('apple', 'banana', 'cherry')\n",
            "Dictionary: {'name': 'John', 'age': 30, 'city': 'New York'}\n"
          ]
        }
      ]
    },
    {
      "cell_type": "markdown",
      "source": [
        "# Q:28. Write a code to create a list with strings and print the element at the third index."
      ],
      "metadata": {
        "id": "NQjrefa4_0BK"
      }
    },
    {
      "cell_type": "code",
      "source": [
        "# Ans\n",
        "\n",
        "car_brands = [\"maruti\", \"hyundai\", \"tata\", \"mahindra\"]\n",
        "\n",
        "brand_at_index_3= car_brands[3]\n",
        "\n",
        "print(brand_at_index_3)\n"
      ],
      "metadata": {
        "colab": {
          "base_uri": "https://localhost:8080/"
        },
        "id": "2Ge0ipbT_0h_",
        "outputId": "2cb67b5f-541b-48b8-e54b-11fe4c458849"
      },
      "execution_count": 41,
      "outputs": [
        {
          "output_type": "stream",
          "name": "stdout",
          "text": [
            "mahindra\n"
          ]
        }
      ]
    },
    {
      "cell_type": "markdown",
      "source": [
        "# Q:29. Write a code to combine two dictionaries into one and print the result."
      ],
      "metadata": {
        "id": "oTAjdwetA184"
      }
    },
    {
      "cell_type": "code",
      "source": [
        "# Ans\n",
        "\n",
        "dict1 = {'monkey': 'banana', 'rabit': 'carrot'}\n",
        "dict2 = {'elephent': 'sugarcane', 'horse': 'gram'}\n",
        "\n",
        "combined= dict1 | dict2\n",
        "\n",
        "print(combined)"
      ],
      "metadata": {
        "colab": {
          "base_uri": "https://localhost:8080/"
        },
        "id": "zub6cXd-A2ZR",
        "outputId": "6f221a29-c05c-48d6-895c-0c02ad8e3d2b"
      },
      "execution_count": 50,
      "outputs": [
        {
          "output_type": "stream",
          "name": "stdout",
          "text": [
            "{'monkey': 'banana', 'rabit': 'carrot', 'elephent': 'sugarcane', 'horse': 'gram'}\n"
          ]
        }
      ]
    },
    {
      "cell_type": "markdown",
      "source": [
        "# Q:30. Write a code to convert a list of strings into a set."
      ],
      "metadata": {
        "id": "PPu-t92MDeNg"
      }
    },
    {
      "cell_type": "code",
      "source": [
        "# Ans\n",
        "\n",
        "string_list = [\"apple\", \"banana\", \"mango\", \"apple\"]\n",
        "\n",
        "string_set = set(string_list)\n",
        "\n",
        "print(string_set)\n"
      ],
      "metadata": {
        "colab": {
          "base_uri": "https://localhost:8080/"
        },
        "id": "FnljOTrODerY",
        "outputId": "3258b85b-5ada-41b4-8848-fad0febcae5f"
      },
      "execution_count": 63,
      "outputs": [
        {
          "output_type": "stream",
          "name": "stdout",
          "text": [
            "{'apple', 'banana', 'mango'}\n"
          ]
        }
      ]
    }
  ]
}